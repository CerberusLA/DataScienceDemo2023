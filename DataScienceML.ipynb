{
  "nbformat": 4,
  "nbformat_minor": 0,
  "metadata": {
    "colab": {
      "provenance": [],
      "authorship_tag": "ABX9TyPUW50/5j5LIlOY4uDKD2eu",
      "include_colab_link": true
    },
    "kernelspec": {
      "name": "python3",
      "display_name": "Python 3"
    },
    "language_info": {
      "name": "python"
    }
  },
  "cells": [
    {
      "cell_type": "markdown",
      "metadata": {
        "id": "view-in-github",
        "colab_type": "text"
      },
      "source": [
        "<a href=\"https://colab.research.google.com/github/CerberusLA/DataScienceDemo2023/blob/main/DataScienceML.ipynb\" target=\"_parent\"><img src=\"https://colab.research.google.com/assets/colab-badge.svg\" alt=\"Open In Colab\"/></a>"
      ]
    },
    {
      "cell_type": "code",
      "execution_count": null,
      "metadata": {
        "id": "CwmrbHus-mk4"
      },
      "outputs": [],
      "source": []
    },
    {
      "cell_type": "markdown",
      "source": [
        "## Ingest"
      ],
      "metadata": {
        "id": "6gFkonuk-pLp"
      }
    },
    {
      "cell_type": "code",
      "source": [],
      "metadata": {
        "id": "7DJD02ZX-txf"
      },
      "execution_count": null,
      "outputs": []
    },
    {
      "cell_type": "markdown",
      "source": [
        "## EDA"
      ],
      "metadata": {
        "id": "24QAcaB4-vPt"
      }
    },
    {
      "cell_type": "code",
      "source": [],
      "metadata": {
        "id": "0oEBu2Z8-z5O"
      },
      "execution_count": null,
      "outputs": []
    },
    {
      "cell_type": "markdown",
      "source": [
        "## Modeling"
      ],
      "metadata": {
        "id": "SptVxIrI-4cf"
      }
    },
    {
      "cell_type": "code",
      "source": [],
      "metadata": {
        "id": "Crrkhe2L-_nf"
      },
      "execution_count": null,
      "outputs": []
    },
    {
      "cell_type": "markdown",
      "source": [
        "## Conclusion"
      ],
      "metadata": {
        "id": "p86uDtyO_AuW"
      }
    },
    {
      "cell_type": "code",
      "source": [],
      "metadata": {
        "id": "PzkkpUR0_D_N"
      },
      "execution_count": null,
      "outputs": []
    }
  ]
}