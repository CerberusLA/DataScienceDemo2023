{
  "nbformat": 4,
  "nbformat_minor": 0,
  "metadata": {
    "colab": {
      "provenance": [],
      "authorship_tag": "ABX9TyMGyZt16T2ud06/vlS6MXuW",
      "include_colab_link": true
    },
    "kernelspec": {
      "name": "python3",
      "display_name": "Python 3"
    },
    "language_info": {
      "name": "python"
    }
  },
  "cells": [
    {
      "cell_type": "markdown",
      "metadata": {
        "id": "view-in-github",
        "colab_type": "text"
      },
      "source": [
        "<a href=\"https://colab.research.google.com/github/CerberusLA/DataScienceDemo2023/blob/main/Some__ML__Stuff.ipynb\" target=\"_parent\"><img src=\"https://colab.research.google.com/assets/colab-badge.svg\" alt=\"Open In Colab\"/></a>"
      ]
    },
    {
      "cell_type": "code",
      "execution_count": null,
      "metadata": {
        "id": "7rpsxNF95SAy"
      },
      "outputs": [],
      "source": []
    },
    {
      "cell_type": "markdown",
      "source": [
        "## Ingest"
      ],
      "metadata": {
        "id": "UKd5ZZV-528U"
      }
    },
    {
      "cell_type": "code",
      "source": [],
      "metadata": {
        "id": "I7QGBZ9G59im"
      },
      "execution_count": null,
      "outputs": []
    },
    {
      "cell_type": "markdown",
      "source": [
        "## EDA"
      ],
      "metadata": {
        "id": "CcCIHil96OFs"
      }
    },
    {
      "cell_type": "code",
      "source": [],
      "metadata": {
        "id": "6q7YWWfG6RcG"
      },
      "execution_count": null,
      "outputs": []
    },
    {
      "cell_type": "markdown",
      "source": [],
      "metadata": {
        "id": "X9HXpgF_6Iwl"
      }
    },
    {
      "cell_type": "code",
      "source": [],
      "metadata": {
        "id": "bn3JTYc56Jy8"
      },
      "execution_count": null,
      "outputs": []
    },
    {
      "cell_type": "markdown",
      "source": [
        "## Modeling"
      ],
      "metadata": {
        "id": "6QRA8z9f6VRO"
      }
    },
    {
      "cell_type": "code",
      "source": [],
      "metadata": {
        "id": "xoXeNFF16df8"
      },
      "execution_count": null,
      "outputs": []
    },
    {
      "cell_type": "markdown",
      "source": [
        "## Conclusion"
      ],
      "metadata": {
        "id": "7Td0e1Sg6eUx"
      }
    },
    {
      "cell_type": "code",
      "source": [],
      "metadata": {
        "id": "RIgc9RjC6mD8"
      },
      "execution_count": null,
      "outputs": []
    }
  ]
}